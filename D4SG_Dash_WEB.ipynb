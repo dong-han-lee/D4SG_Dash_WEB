{
  "cells": [
    {
      "cell_type": "markdown",
      "metadata": {
        "id": "view-in-github",
        "colab_type": "text"
      },
      "source": [
        "<a href=\"https://colab.research.google.com/github/dong-han-lee/D4SG_Dash_WEB/blob/main/D4SG_Dash_WEB.ipynb\" target=\"_parent\"><img src=\"https://colab.research.google.com/assets/colab-badge.svg\" alt=\"Open In Colab\"/></a>"
      ]
    },
    {
      "cell_type": "code",
      "execution_count": null,
      "metadata": {
        "id": "h7IZwwAUm8kM"
      },
      "outputs": [],
      "source": [
        "# 安裝套件\n",
        "!pip install -q dash\n",
        "!pip install -q dash-bootstrap-components"
      ]
    },
    {
      "cell_type": "code",
      "execution_count": null,
      "metadata": {
        "id": "aYSqxea7nl0x"
      },
      "outputs": [],
      "source": [
        "# 載入相關套件\n",
        "import dash\n",
        "import dash_bootstrap_components as dbc\n",
        "from dash import Input, Output, State, dcc, html\n",
        "\n",
        "import pandas as pd\n",
        "import numpy as np\n",
        "import plotly.express as px\n",
        "\n",
        "import os\n",
        "import json\n",
        "import gdown"
      ]
    },
    {
      "cell_type": "code",
      "source": [
        "# 讀取量能服務狀況資料\n",
        "file_id = '1gCCcerBTKrHtfPaTJlO3JVVM6D-xT4PmQRlpA7zS4kI'\n",
        "gdrive_url = f'https://drive.google.com/uc?id={file_id}'\n",
        "gdown.download(gdrive_url, '服務量能狀況.xlsx', quiet=True)\n",
        "\n",
        "# 讀取資料\n",
        "serviceData = pd.read_excel('服務量能狀況.xlsx', sheet_name=\"WEB\")\n",
        "serviceData = serviceData.round(2)  # 數值四捨五入\n",
        "serviceData = serviceData.fillna(0)  # 缺值補0"
      ],
      "metadata": {
        "id": "osbDmUWjQzGk"
      },
      "execution_count": null,
      "outputs": []
    },
    {
      "cell_type": "code",
      "source": [
        "# 選項清單\n",
        "mapOptions = serviceData.drop(columns=['居住鄉鎮']).columns"
      ],
      "metadata": {
        "id": "ZrtdTtofUwcw"
      },
      "execution_count": null,
      "outputs": []
    },
    {
      "cell_type": "code",
      "execution_count": null,
      "metadata": {
        "id": "Ah_WicodxyVC"
      },
      "outputs": [],
      "source": [
        "# 讀取鄉鎮市區界線(TWD97經緯度)資料\n",
        "file_id = '11mf-In-JYqShNUICh7BVa2loLJqmliWD'\n",
        "gdrive_url = f'https://drive.google.com/uc?id={file_id}'\n",
        "gdown.download(gdrive_url, 'TOWN_MOI_1120825.geojson', quiet=True)\n",
        "with open(f\"TOWN_MOI_1120825.geojson\", encoding='utf8') as response:\n",
        "  mapGeo = json.load(response)\n",
        "\n",
        "# 篩選屏東縣鄉鎮市區清單\n",
        "mapGeo['features'] = [elem for elem in mapGeo['features'] if elem['properties']['COUNTYNAME'] == '屏東縣']\n",
        "\n",
        "# 依據圖資資料建立鄉鎮市區清單\n",
        "mapDf = pd.DataFrame.from_dict([i['properties'] for i in mapGeo['features']])\n",
        "mapDf['居住鄉鎮'] = mapDf['COUNTYNAME'] + mapDf['TOWNNAME']"
      ]
    },
    {
      "cell_type": "code",
      "execution_count": null,
      "metadata": {
        "id": "yWpgYahlzn0y"
      },
      "outputs": [],
      "source": [
        "# 將個管系統統計資訊併入地圖資料\n",
        "mapDf = mapDf.merge(serviceData, on=['居住鄉鎮'], how='left')"
      ]
    },
    {
      "cell_type": "code",
      "source": [
        "# # 繪製屏東縣各鄉鎮市個案數地圖\n",
        "# fig = px.choropleth_mapbox(mapDf,  # 資料表\n",
        "#                            geojson=mapGeo,  # 地圖資訊\n",
        "#                            locations='TOWNCODE',  # df要對應geojson的id名稱\n",
        "#                            featureidkey='properties.TOWNCODE',  # geojson對應df的id名稱\n",
        "#                            color='個案數',  # 顏色區分對象\n",
        "#                            color_continuous_scale='Viridis',  # 設定呈現的顏色\n",
        "#                            range_color=(round(np.nanmin(mapDf['個案數'])),  # 顏色的值域範圍\n",
        "#                                         round(np.nanmax(mapDf['個案數']))),\n",
        "#                            mapbox_style='carto-positron',  # mapbox地圖格式\n",
        "#                            zoom=8.5,  # 地圖縮放大小: 數字愈大放大程度愈大\n",
        "#                            center={'lat': 22.4, 'lon': 120.49138},  # 地圖中心位置\n",
        "#                            opacity=0.5,  # 設定顏色區塊的透明度 數值愈大愈不透明\n",
        "#                            hover_data=['居住鄉鎮', '個案數'],  # 設定游標指向資訊\n",
        "#                            width=800,\n",
        "#                            height=600,\n",
        "#                           )\n",
        "# fig.update_layout(margin={'r':0, 't':0, 'l':0, 'b':0})\n",
        "# fig.show()"
      ],
      "metadata": {
        "id": "tmEsoGYD7U_X"
      },
      "execution_count": null,
      "outputs": []
    },
    {
      "cell_type": "code",
      "source": [
        "# 建立css檔案\n",
        "css_content = \"\"\"\n",
        "  body {\n",
        "      font-family: sans-serif;\n",
        "  }\n",
        "\"\"\"\n",
        "\n",
        "os.makedirs('assets', exist_ok=True)\n",
        "with open('assets/styles.css', 'w') as file:\n",
        "  file.write(css_content)"
      ],
      "metadata": {
        "id": "_ngp5fjHJ1Dr"
      },
      "execution_count": null,
      "outputs": []
    },
    {
      "cell_type": "code",
      "execution_count": null,
      "metadata": {
        "id": "mL3UxFLzznMs"
      },
      "outputs": [],
      "source": [
        "# Dash設定\n",
        "app = dash.Dash(\n",
        "    external_stylesheets=[dbc.themes.BOOTSTRAP]\n",
        ")\n",
        "\n",
        "# 網站名稱\n",
        "app.title = 'D4SG資料英雄計畫: 屏東縣社會處長青科專案'"
      ]
    },
    {
      "cell_type": "code",
      "execution_count": null,
      "metadata": {
        "id": "RxF3v1Qtq_f6"
      },
      "outputs": [],
      "source": [
        "# 服務量能儀表板\n",
        "page_dashboard = dbc.Container([\n",
        "\n",
        "    dbc.Row([\n",
        "       html.Center(html.H3(\"服務量能儀表板\")),\n",
        "    ]),\n",
        "\n",
        "    dbc.Row([\n",
        "\n",
        "        # 選單欄位\n",
        "        dbc.Col([\n",
        "          html.Span(\"請選擇繪製指標:\"),\n",
        "          dcc.Dropdown(\n",
        "            id='mapDropdown',\n",
        "            options={elem: elem for elem in mapOptions},\n",
        "            value=mapOptions[0],\n",
        "          )\n",
        "          ], md=3),\n",
        "        ], className=\"mb-5\"),\n",
        "\n",
        "    dbc.Row([\n",
        "        # 繪製地圖欄位\n",
        "        dbc.Col([\n",
        "            dbc.Spinner(html.Center(dcc.Graph(id='map')), color=\"primary\"),\n",
        "        ]),\n",
        "    ]),\n",
        "])\n",
        "\n",
        "\n",
        "# 建立地圖\n",
        "@app.callback(\n",
        "    Output(\"map\", \"figure\"),\n",
        "    Input(f\"mapDropdown\", \"value\"),\n",
        "    )\n",
        "def MakeMapFig(selected_name):\n",
        "\n",
        "  # 繪製屏東縣各鄉鎮市個案數地圖\n",
        "  fig = px.choropleth_mapbox(mapDf,  # 資料表\n",
        "                            geojson=mapGeo,  # 地圖資訊\n",
        "                            locations='TOWNCODE',  # df要對應geojson的id名稱\n",
        "                            featureidkey='properties.TOWNCODE',  # geojson對應df的id名稱\n",
        "                            color=selected_name,  # 顏色區分對象\n",
        "                            color_continuous_scale='Viridis',  # 設定呈現的顏色\n",
        "                            range_color=(round(np.nanmin(mapDf[selected_name])),  # 顏色的值域範圍\n",
        "                                          round(np.nanmax(mapDf[selected_name]))),\n",
        "                            mapbox_style='carto-positron',  # mapbox地圖格式\n",
        "                            zoom=8.5,  # 地圖縮放大小: 數字愈大放大程度愈大\n",
        "                            center={'lat': 22.4, 'lon': 120.49138},  # 地圖中心位置\n",
        "                            opacity=0.5,  # 設定顏色區塊的透明度 數值愈大愈不透明\n",
        "                            hover_data=['居住鄉鎮']+[elem for elem in mapOptions if elem != selected_name],  # 設定游標指向資訊\n",
        "                            width=800,\n",
        "                            height=600,\n",
        "                            )\n",
        "  fig.update_layout(margin={'r':0, 't':0, 'l':0, 'b':0})\n",
        "\n",
        "  return fig"
      ]
    },
    {
      "cell_type": "code",
      "execution_count": null,
      "metadata": {
        "id": "ae6un37jqOVG"
      },
      "outputs": [],
      "source": [
        "# 前端畫面版型\n",
        "app.layout = html.Div([\n",
        "\n",
        "    # navbar\n",
        "    dbc.Navbar(\n",
        "        dbc.Container(\n",
        "            [\n",
        "                html.A(\n",
        "                    # Use row and col to control vertical alignment of logo / brand\n",
        "                    dbc.Row(\n",
        "                        [\n",
        "                            dbc.Col(dbc.NavbarBrand(\"D4SG: 屏東縣社會處長青科專案\", className=\"ml-2\")),\n",
        "                        ],\n",
        "                        align=\"center\",\n",
        "                        className=\"g-0\",\n",
        "                    ),\n",
        "                    href=\"/\",\n",
        "                    style={\"textDecoration\": \"none\"},\n",
        "                ),\n",
        "                dbc.NavbarToggler(id=\"navbar-toggler-menu\"),\n",
        "                dbc.Collapse(\n",
        "                    dbc.Nav(\n",
        "                        [\n",
        "                            dbc.NavItem(dbc.NavLink(\"服務量能儀表板\", href=\"/page_dashboard\", active=\"exact\")),\n",
        "                        ],\n",
        "                        className=\"ml-2\", navbar=True),\n",
        "                    id=\"navbar-collapse-menu\",\n",
        "                    navbar=True,\n",
        "                ),\n",
        "            ]\n",
        "        ),\n",
        "        color=\"dark\",\n",
        "        dark=True,\n",
        "        className=\"mb-5\",\n",
        "    ),\n",
        "\n",
        "    # page content\n",
        "    dcc.Location(id='url', refresh=False),\n",
        "    html.Div(id='page-content')\n",
        "])\n",
        "\n",
        "\n",
        "# toggle the collapse on small screens\n",
        "@app.callback(\n",
        "    Output(f\"navbar-collapse-menu\", \"is_open\"),\n",
        "    [Input(f\"navbar-toggler-menu\", \"n_clicks\")],\n",
        "    [State(f\"navbar-collapse-menu\", \"is_open\")])\n",
        "def toggle_navbar_collapse(n, is_open):\n",
        "    if n:\n",
        "        return not is_open\n",
        "    return is_open\n",
        "\n",
        "\n",
        "# navbar link\n",
        "@app.callback(Output('page-content', 'children'),\n",
        "              [Input('url', 'pathname')])\n",
        "def display_page(pathname):\n",
        "\n",
        "    if pathname == \"/\":\n",
        "        return page_dashboard\n",
        "    elif pathname == \"/page_dashboard\":\n",
        "            return page_dashboard\n",
        "\n",
        "    # If the user tries to reach a different page, return a 404 message\n",
        "    return html.Div(\n",
        "        dbc.Container([\n",
        "            html.H3(\"404: 找不到您想要的頁面...\", className=\"display-3\"),\n",
        "            html.Hr(className=\"my-2\"),\n",
        "            html.P(\n",
        "                f\"The pathname {pathname} was not recognised...\"\n",
        "                ),\n",
        "            ], fluid=True, className=\"py-3\",),\n",
        "        className=\"p-3 bg-light rounded-3\",\n",
        "    )"
      ]
    },
    {
      "cell_type": "code",
      "execution_count": null,
      "metadata": {
        "colab": {
          "base_uri": "https://localhost:8080/",
          "height": 53
        },
        "id": "uBvQ1gKDnkfd",
        "outputId": "a44d332b-0f37-40cc-a69b-4d42d8edb66b"
      },
      "outputs": [
        {
          "output_type": "stream",
          "name": "stdout",
          "text": [
            "Dash app running on:\n"
          ]
        },
        {
          "output_type": "display_data",
          "data": {
            "text/plain": [
              "<IPython.core.display.Javascript object>"
            ],
            "application/javascript": [
              "(async (port, path, text, element) => {\n",
              "    if (!google.colab.kernel.accessAllowed) {\n",
              "      return;\n",
              "    }\n",
              "    element.appendChild(document.createTextNode(''));\n",
              "    const url = await google.colab.kernel.proxyPort(port);\n",
              "    const anchor = document.createElement('a');\n",
              "    anchor.href = new URL(path, url).toString();\n",
              "    anchor.target = '_blank';\n",
              "    anchor.setAttribute('data-href', url + path);\n",
              "    anchor.textContent = text;\n",
              "    element.appendChild(anchor);\n",
              "  })(8050, \"/\", \"http://127.0.0.1:8050/\", window.element)"
            ]
          },
          "metadata": {}
        }
      ],
      "source": [
        "if __name__ == \"__main__\":\n",
        "    app.run_server(jupyter_mode=\"external\")"
      ]
    },
    {
      "cell_type": "code",
      "execution_count": null,
      "metadata": {
        "id": "6lKoRJf2pNpQ"
      },
      "outputs": [],
      "source": []
    }
  ],
  "metadata": {
    "colab": {
      "provenance": [],
      "include_colab_link": true
    },
    "kernelspec": {
      "display_name": "Python 3",
      "name": "python3"
    },
    "language_info": {
      "name": "python"
    }
  },
  "nbformat": 4,
  "nbformat_minor": 0
}